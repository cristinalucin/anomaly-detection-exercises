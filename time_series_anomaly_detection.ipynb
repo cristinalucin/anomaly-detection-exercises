{
 "cells": [
  {
   "cell_type": "code",
   "execution_count": 2,
   "id": "6d82e3a3",
   "metadata": {},
   "outputs": [],
   "source": [
    "import warnings\n",
    "warnings.filterwarnings(\"ignore\")\n",
    "import matplotlib.pyplot as plt\n",
    "\n",
    "import numpy as np\n",
    "import pandas as pd\n",
    "import seaborn as sns\n",
    "import env\n",
    "import datetime"
   ]
  },
  {
   "cell_type": "markdown",
   "id": "583e95b8",
   "metadata": {},
   "source": [
    "# Exercises\n",
    "- file name: `time_series_anomaly_detection.py` or `time_series_anomaly_detection.ipynb`\n",
    "\n",
    "The dataset for these exercises lives in the Codeup Data Science MySQL Server. The database name is curriculum_logs.\n",
    "\n",
    "**Hint**: You will need to explore the database (yay SQL!)\n",
    "\n",
    "1. Label students by the program they are in.\n",
    "1. Is it possible to identify the user_id of a staff member?\n",
    "1. Identify students who are accessing our curriculum pages beyond the end of their time at Codeup.\n",
    "1. Identify students who present anomalous activity using the Bollinger Band method, but reduce K to 2. \n",
    "1. Plot the access activity of these students.\n",
    "\n",
    "**BONUS:** Can you identify users who are viewing both the web dev and data science curriculum?"
   ]
  },
  {
   "cell_type": "code",
   "execution_count": 3,
   "id": "48e36b0b",
   "metadata": {},
   "outputs": [],
   "source": [
    "def acquire_cohort_logs(user=env.user, password=env.password, host=env.host):\n",
    "    '''\n",
    "    This function queries the Codeup MySQL curriculum_logs database and returns a dataframe\n",
    "    '''\n",
    "    url = f'mysql+pymysql://{env.user}:{env.password}@{env.host}/curriculum_logs'\n",
    "    query = '''\n",
    "    SELECT date, path as endpoint, user_id, cohort_id, name, start_date, end_date, ip as source_ip, program_id\n",
    "        FROM logs l\n",
    "        LEFT JOIN cohorts c ON l.cohort_id = c.id;\n",
    "    '''\n",
    "    df = pd.read_sql(query, url)\n",
    "    return df"
   ]
  },
  {
   "cell_type": "code",
   "execution_count": 3,
   "id": "23f3a0e9",
   "metadata": {},
   "outputs": [],
   "source": [
    "#df = acquire_cohort_logs(user=env.user, password=env.password, host=env.host)\n",
    "#Save file to csv\n",
    "\n",
    "# saving the dataframe\n",
    "#df.to_csv('cohort_logs.csv')"
   ]
  },
  {
   "cell_type": "code",
   "execution_count": 4,
   "id": "c0703a50",
   "metadata": {},
   "outputs": [],
   "source": [
    "#Get csv from file\n",
    "df = pd.read_csv('cohort_logs.csv', index_col=[0])"
   ]
  },
  {
   "cell_type": "code",
   "execution_count": 5,
   "id": "c214adf0",
   "metadata": {},
   "outputs": [
    {
     "data": {
      "text/html": [
       "<div>\n",
       "<style scoped>\n",
       "    .dataframe tbody tr th:only-of-type {\n",
       "        vertical-align: middle;\n",
       "    }\n",
       "\n",
       "    .dataframe tbody tr th {\n",
       "        vertical-align: top;\n",
       "    }\n",
       "\n",
       "    .dataframe thead th {\n",
       "        text-align: right;\n",
       "    }\n",
       "</style>\n",
       "<table border=\"1\" class=\"dataframe\">\n",
       "  <thead>\n",
       "    <tr style=\"text-align: right;\">\n",
       "      <th></th>\n",
       "      <th>date</th>\n",
       "      <th>endpoint</th>\n",
       "      <th>user_id</th>\n",
       "      <th>cohort_id</th>\n",
       "      <th>name</th>\n",
       "      <th>start_date</th>\n",
       "      <th>end_date</th>\n",
       "      <th>source_ip</th>\n",
       "      <th>program_id</th>\n",
       "    </tr>\n",
       "  </thead>\n",
       "  <tbody>\n",
       "    <tr>\n",
       "      <th>0</th>\n",
       "      <td>2018-01-26</td>\n",
       "      <td>/</td>\n",
       "      <td>1</td>\n",
       "      <td>8.0</td>\n",
       "      <td>Hampton</td>\n",
       "      <td>2015-09-22</td>\n",
       "      <td>2016-02-06</td>\n",
       "      <td>97.105.19.61</td>\n",
       "      <td>1.0</td>\n",
       "    </tr>\n",
       "    <tr>\n",
       "      <th>1</th>\n",
       "      <td>2018-01-26</td>\n",
       "      <td>java-ii</td>\n",
       "      <td>1</td>\n",
       "      <td>8.0</td>\n",
       "      <td>Hampton</td>\n",
       "      <td>2015-09-22</td>\n",
       "      <td>2016-02-06</td>\n",
       "      <td>97.105.19.61</td>\n",
       "      <td>1.0</td>\n",
       "    </tr>\n",
       "    <tr>\n",
       "      <th>2</th>\n",
       "      <td>2018-01-26</td>\n",
       "      <td>java-ii/object-oriented-programming</td>\n",
       "      <td>1</td>\n",
       "      <td>8.0</td>\n",
       "      <td>Hampton</td>\n",
       "      <td>2015-09-22</td>\n",
       "      <td>2016-02-06</td>\n",
       "      <td>97.105.19.61</td>\n",
       "      <td>1.0</td>\n",
       "    </tr>\n",
       "    <tr>\n",
       "      <th>3</th>\n",
       "      <td>2018-01-26</td>\n",
       "      <td>slides/object_oriented_programming</td>\n",
       "      <td>1</td>\n",
       "      <td>8.0</td>\n",
       "      <td>Hampton</td>\n",
       "      <td>2015-09-22</td>\n",
       "      <td>2016-02-06</td>\n",
       "      <td>97.105.19.61</td>\n",
       "      <td>1.0</td>\n",
       "    </tr>\n",
       "    <tr>\n",
       "      <th>4</th>\n",
       "      <td>2018-01-26</td>\n",
       "      <td>javascript-i/conditionals</td>\n",
       "      <td>2</td>\n",
       "      <td>22.0</td>\n",
       "      <td>Teddy</td>\n",
       "      <td>2018-01-08</td>\n",
       "      <td>2018-05-17</td>\n",
       "      <td>97.105.19.61</td>\n",
       "      <td>2.0</td>\n",
       "    </tr>\n",
       "  </tbody>\n",
       "</table>\n",
       "</div>"
      ],
      "text/plain": [
       "         date                             endpoint  user_id  cohort_id  \\\n",
       "0  2018-01-26                                    /        1        8.0   \n",
       "1  2018-01-26                              java-ii        1        8.0   \n",
       "2  2018-01-26  java-ii/object-oriented-programming        1        8.0   \n",
       "3  2018-01-26   slides/object_oriented_programming        1        8.0   \n",
       "4  2018-01-26            javascript-i/conditionals        2       22.0   \n",
       "\n",
       "      name  start_date    end_date     source_ip  program_id  \n",
       "0  Hampton  2015-09-22  2016-02-06  97.105.19.61         1.0  \n",
       "1  Hampton  2015-09-22  2016-02-06  97.105.19.61         1.0  \n",
       "2  Hampton  2015-09-22  2016-02-06  97.105.19.61         1.0  \n",
       "3  Hampton  2015-09-22  2016-02-06  97.105.19.61         1.0  \n",
       "4    Teddy  2018-01-08  2018-05-17  97.105.19.61         2.0  "
      ]
     },
     "execution_count": 5,
     "metadata": {},
     "output_type": "execute_result"
    }
   ],
   "source": [
    "df.head()"
   ]
  },
  {
   "cell_type": "markdown",
   "id": "7806cddb",
   "metadata": {},
   "source": [
    "### 1. Label students by the program they are in."
   ]
  },
  {
   "cell_type": "code",
   "execution_count": 6,
   "id": "35697b8a",
   "metadata": {},
   "outputs": [],
   "source": [
    "#Changing date, start and end dates to datetime fields\n",
    "#Make a datetime object\n",
    "df[\"date\"]= pd.to_datetime(df[\"date\"])\n",
    "df[\"start_date\"]= pd.to_datetime(df[\"start_date\"])\n",
    "df[\"end_date\"]= pd.to_datetime(df[\"end_date\"])"
   ]
  },
  {
   "cell_type": "code",
   "execution_count": 7,
   "id": "b48acf76",
   "metadata": {},
   "outputs": [
    {
     "name": "stdout",
     "output_type": "stream",
     "text": [
      "<class 'pandas.core.frame.DataFrame'>\n",
      "Int64Index: 900223 entries, 0 to 900222\n",
      "Data columns (total 9 columns):\n",
      " #   Column      Non-Null Count   Dtype         \n",
      "---  ------      --------------   -----         \n",
      " 0   date        900223 non-null  datetime64[ns]\n",
      " 1   endpoint    900222 non-null  object        \n",
      " 2   user_id     900223 non-null  int64         \n",
      " 3   cohort_id   847330 non-null  float64       \n",
      " 4   name        847330 non-null  object        \n",
      " 5   start_date  847330 non-null  datetime64[ns]\n",
      " 6   end_date    847330 non-null  datetime64[ns]\n",
      " 7   source_ip   900223 non-null  object        \n",
      " 8   program_id  847330 non-null  float64       \n",
      "dtypes: datetime64[ns](3), float64(2), int64(1), object(3)\n",
      "memory usage: 68.7+ MB\n"
     ]
    }
   ],
   "source": [
    "#df['program_length'] = df.start_date - df.end_date\n",
    "df.info()"
   ]
  },
  {
   "cell_type": "code",
   "execution_count": 8,
   "id": "5b2f3c12",
   "metadata": {},
   "outputs": [],
   "source": [
    "time_diff= df.end_date - df.start_date"
   ]
  },
  {
   "cell_type": "code",
   "execution_count": 9,
   "id": "ac3651fd",
   "metadata": {},
   "outputs": [
    {
     "data": {
      "text/html": [
       "<div>\n",
       "<style scoped>\n",
       "    .dataframe tbody tr th:only-of-type {\n",
       "        vertical-align: middle;\n",
       "    }\n",
       "\n",
       "    .dataframe tbody tr th {\n",
       "        vertical-align: top;\n",
       "    }\n",
       "\n",
       "    .dataframe thead th {\n",
       "        text-align: right;\n",
       "    }\n",
       "</style>\n",
       "<table border=\"1\" class=\"dataframe\">\n",
       "  <thead>\n",
       "    <tr style=\"text-align: right;\">\n",
       "      <th></th>\n",
       "      <th>date</th>\n",
       "      <th>endpoint</th>\n",
       "      <th>user_id</th>\n",
       "      <th>cohort_id</th>\n",
       "      <th>name</th>\n",
       "      <th>start_date</th>\n",
       "      <th>end_date</th>\n",
       "      <th>source_ip</th>\n",
       "      <th>program_id</th>\n",
       "      <th>program_length</th>\n",
       "    </tr>\n",
       "  </thead>\n",
       "  <tbody>\n",
       "    <tr>\n",
       "      <th>0</th>\n",
       "      <td>2018-01-26</td>\n",
       "      <td>/</td>\n",
       "      <td>1</td>\n",
       "      <td>8.0</td>\n",
       "      <td>Hampton</td>\n",
       "      <td>2015-09-22</td>\n",
       "      <td>2016-02-06</td>\n",
       "      <td>97.105.19.61</td>\n",
       "      <td>1.0</td>\n",
       "      <td>137 days</td>\n",
       "    </tr>\n",
       "    <tr>\n",
       "      <th>1</th>\n",
       "      <td>2018-01-26</td>\n",
       "      <td>java-ii</td>\n",
       "      <td>1</td>\n",
       "      <td>8.0</td>\n",
       "      <td>Hampton</td>\n",
       "      <td>2015-09-22</td>\n",
       "      <td>2016-02-06</td>\n",
       "      <td>97.105.19.61</td>\n",
       "      <td>1.0</td>\n",
       "      <td>137 days</td>\n",
       "    </tr>\n",
       "    <tr>\n",
       "      <th>2</th>\n",
       "      <td>2018-01-26</td>\n",
       "      <td>java-ii/object-oriented-programming</td>\n",
       "      <td>1</td>\n",
       "      <td>8.0</td>\n",
       "      <td>Hampton</td>\n",
       "      <td>2015-09-22</td>\n",
       "      <td>2016-02-06</td>\n",
       "      <td>97.105.19.61</td>\n",
       "      <td>1.0</td>\n",
       "      <td>137 days</td>\n",
       "    </tr>\n",
       "    <tr>\n",
       "      <th>3</th>\n",
       "      <td>2018-01-26</td>\n",
       "      <td>slides/object_oriented_programming</td>\n",
       "      <td>1</td>\n",
       "      <td>8.0</td>\n",
       "      <td>Hampton</td>\n",
       "      <td>2015-09-22</td>\n",
       "      <td>2016-02-06</td>\n",
       "      <td>97.105.19.61</td>\n",
       "      <td>1.0</td>\n",
       "      <td>137 days</td>\n",
       "    </tr>\n",
       "    <tr>\n",
       "      <th>4</th>\n",
       "      <td>2018-01-26</td>\n",
       "      <td>javascript-i/conditionals</td>\n",
       "      <td>2</td>\n",
       "      <td>22.0</td>\n",
       "      <td>Teddy</td>\n",
       "      <td>2018-01-08</td>\n",
       "      <td>2018-05-17</td>\n",
       "      <td>97.105.19.61</td>\n",
       "      <td>2.0</td>\n",
       "      <td>129 days</td>\n",
       "    </tr>\n",
       "  </tbody>\n",
       "</table>\n",
       "</div>"
      ],
      "text/plain": [
       "        date                             endpoint  user_id  cohort_id  \\\n",
       "0 2018-01-26                                    /        1        8.0   \n",
       "1 2018-01-26                              java-ii        1        8.0   \n",
       "2 2018-01-26  java-ii/object-oriented-programming        1        8.0   \n",
       "3 2018-01-26   slides/object_oriented_programming        1        8.0   \n",
       "4 2018-01-26            javascript-i/conditionals        2       22.0   \n",
       "\n",
       "      name start_date   end_date     source_ip  program_id program_length  \n",
       "0  Hampton 2015-09-22 2016-02-06  97.105.19.61         1.0       137 days  \n",
       "1  Hampton 2015-09-22 2016-02-06  97.105.19.61         1.0       137 days  \n",
       "2  Hampton 2015-09-22 2016-02-06  97.105.19.61         1.0       137 days  \n",
       "3  Hampton 2015-09-22 2016-02-06  97.105.19.61         1.0       137 days  \n",
       "4    Teddy 2018-01-08 2018-05-17  97.105.19.61         2.0       129 days  "
      ]
     },
     "execution_count": 9,
     "metadata": {},
     "output_type": "execute_result"
    }
   ],
   "source": [
    "df['program_length'] = df.end_date - df.start_date\n",
    "df.head()"
   ]
  },
  {
   "cell_type": "code",
   "execution_count": 10,
   "id": "15eced9e",
   "metadata": {},
   "outputs": [
    {
     "name": "stdout",
     "output_type": "stream",
     "text": [
      "<class 'pandas.core.frame.DataFrame'>\n",
      "Int64Index: 900223 entries, 0 to 900222\n",
      "Data columns (total 10 columns):\n",
      " #   Column          Non-Null Count   Dtype          \n",
      "---  ------          --------------   -----          \n",
      " 0   date            900223 non-null  datetime64[ns] \n",
      " 1   endpoint        900222 non-null  object         \n",
      " 2   user_id         900223 non-null  int64          \n",
      " 3   cohort_id       847330 non-null  float64        \n",
      " 4   name            847330 non-null  object         \n",
      " 5   start_date      847330 non-null  datetime64[ns] \n",
      " 6   end_date        847330 non-null  datetime64[ns] \n",
      " 7   source_ip       900223 non-null  object         \n",
      " 8   program_id      847330 non-null  float64        \n",
      " 9   program_length  847330 non-null  timedelta64[ns]\n",
      "dtypes: datetime64[ns](3), float64(2), int64(1), object(3), timedelta64[ns](1)\n",
      "memory usage: 75.5+ MB\n"
     ]
    }
   ],
   "source": [
    "df.info()"
   ]
  },
  {
   "cell_type": "code",
   "execution_count": 11,
   "id": "20c18d49",
   "metadata": {},
   "outputs": [
    {
     "data": {
      "text/plain": [
       "2.0    713365\n",
       "3.0    103412\n",
       "1.0     30548\n",
       "4.0         5\n",
       "Name: program_id, dtype: int64"
      ]
     },
     "execution_count": 11,
     "metadata": {},
     "output_type": "execute_result"
    }
   ],
   "source": [
    "df.program_id.value_counts()"
   ]
  },
  {
   "cell_type": "code",
   "execution_count": 17,
   "id": "04981e5e",
   "metadata": {},
   "outputs": [],
   "source": [
    "#Create column with program name\n",
    "#Change program id to object\n",
    "df[\"program_id\"]= df[\"program_id\"].astype(str)\n",
    "#Copying these values to a new column program name\n",
    "df['program_name'] = df['program_id']\n",
    "#Mapping the real names of the program\n",
    "df[\"program_name\"] = df[\"program_name\"].map({'1.0':'full stack PHP','2.0':'full stack Java','3.0':'data science','4.0':'staff'})"
   ]
  },
  {
   "cell_type": "code",
   "execution_count": 18,
   "id": "321deee3",
   "metadata": {},
   "outputs": [
    {
     "data": {
      "text/html": [
       "<div>\n",
       "<style scoped>\n",
       "    .dataframe tbody tr th:only-of-type {\n",
       "        vertical-align: middle;\n",
       "    }\n",
       "\n",
       "    .dataframe tbody tr th {\n",
       "        vertical-align: top;\n",
       "    }\n",
       "\n",
       "    .dataframe thead th {\n",
       "        text-align: right;\n",
       "    }\n",
       "</style>\n",
       "<table border=\"1\" class=\"dataframe\">\n",
       "  <thead>\n",
       "    <tr style=\"text-align: right;\">\n",
       "      <th></th>\n",
       "      <th>date</th>\n",
       "      <th>endpoint</th>\n",
       "      <th>user_id</th>\n",
       "      <th>cohort_id</th>\n",
       "      <th>name</th>\n",
       "      <th>start_date</th>\n",
       "      <th>end_date</th>\n",
       "      <th>source_ip</th>\n",
       "      <th>program_id</th>\n",
       "      <th>program_length</th>\n",
       "      <th>program_name</th>\n",
       "    </tr>\n",
       "  </thead>\n",
       "  <tbody>\n",
       "    <tr>\n",
       "      <th>0</th>\n",
       "      <td>2018-01-26</td>\n",
       "      <td>/</td>\n",
       "      <td>1</td>\n",
       "      <td>8.0</td>\n",
       "      <td>Hampton</td>\n",
       "      <td>2015-09-22</td>\n",
       "      <td>2016-02-06</td>\n",
       "      <td>97.105.19.61</td>\n",
       "      <td>1.0</td>\n",
       "      <td>137 days</td>\n",
       "      <td>full stack PHP</td>\n",
       "    </tr>\n",
       "    <tr>\n",
       "      <th>1</th>\n",
       "      <td>2018-01-26</td>\n",
       "      <td>java-ii</td>\n",
       "      <td>1</td>\n",
       "      <td>8.0</td>\n",
       "      <td>Hampton</td>\n",
       "      <td>2015-09-22</td>\n",
       "      <td>2016-02-06</td>\n",
       "      <td>97.105.19.61</td>\n",
       "      <td>1.0</td>\n",
       "      <td>137 days</td>\n",
       "      <td>full stack PHP</td>\n",
       "    </tr>\n",
       "    <tr>\n",
       "      <th>2</th>\n",
       "      <td>2018-01-26</td>\n",
       "      <td>java-ii/object-oriented-programming</td>\n",
       "      <td>1</td>\n",
       "      <td>8.0</td>\n",
       "      <td>Hampton</td>\n",
       "      <td>2015-09-22</td>\n",
       "      <td>2016-02-06</td>\n",
       "      <td>97.105.19.61</td>\n",
       "      <td>1.0</td>\n",
       "      <td>137 days</td>\n",
       "      <td>full stack PHP</td>\n",
       "    </tr>\n",
       "    <tr>\n",
       "      <th>3</th>\n",
       "      <td>2018-01-26</td>\n",
       "      <td>slides/object_oriented_programming</td>\n",
       "      <td>1</td>\n",
       "      <td>8.0</td>\n",
       "      <td>Hampton</td>\n",
       "      <td>2015-09-22</td>\n",
       "      <td>2016-02-06</td>\n",
       "      <td>97.105.19.61</td>\n",
       "      <td>1.0</td>\n",
       "      <td>137 days</td>\n",
       "      <td>full stack PHP</td>\n",
       "    </tr>\n",
       "    <tr>\n",
       "      <th>4</th>\n",
       "      <td>2018-01-26</td>\n",
       "      <td>javascript-i/conditionals</td>\n",
       "      <td>2</td>\n",
       "      <td>22.0</td>\n",
       "      <td>Teddy</td>\n",
       "      <td>2018-01-08</td>\n",
       "      <td>2018-05-17</td>\n",
       "      <td>97.105.19.61</td>\n",
       "      <td>2.0</td>\n",
       "      <td>129 days</td>\n",
       "      <td>full stack Java</td>\n",
       "    </tr>\n",
       "  </tbody>\n",
       "</table>\n",
       "</div>"
      ],
      "text/plain": [
       "        date                             endpoint  user_id  cohort_id  \\\n",
       "0 2018-01-26                                    /        1        8.0   \n",
       "1 2018-01-26                              java-ii        1        8.0   \n",
       "2 2018-01-26  java-ii/object-oriented-programming        1        8.0   \n",
       "3 2018-01-26   slides/object_oriented_programming        1        8.0   \n",
       "4 2018-01-26            javascript-i/conditionals        2       22.0   \n",
       "\n",
       "      name start_date   end_date     source_ip program_id program_length  \\\n",
       "0  Hampton 2015-09-22 2016-02-06  97.105.19.61        1.0       137 days   \n",
       "1  Hampton 2015-09-22 2016-02-06  97.105.19.61        1.0       137 days   \n",
       "2  Hampton 2015-09-22 2016-02-06  97.105.19.61        1.0       137 days   \n",
       "3  Hampton 2015-09-22 2016-02-06  97.105.19.61        1.0       137 days   \n",
       "4    Teddy 2018-01-08 2018-05-17  97.105.19.61        2.0       129 days   \n",
       "\n",
       "      program_name  \n",
       "0   full stack PHP  \n",
       "1   full stack PHP  \n",
       "2   full stack PHP  \n",
       "3   full stack PHP  \n",
       "4  full stack Java  "
      ]
     },
     "execution_count": 18,
     "metadata": {},
     "output_type": "execute_result"
    }
   ],
   "source": [
    "df.head()"
   ]
  },
  {
   "cell_type": "markdown",
   "id": "1010968e",
   "metadata": {},
   "source": [
    "### 2. Is it possible to identify the user_id of a staff member?"
   ]
  },
  {
   "cell_type": "markdown",
   "id": "14fb4e39",
   "metadata": {},
   "source": [
    "#### Yes, staff have program id 4\n"
   ]
  },
  {
   "cell_type": "code",
   "execution_count": 55,
   "id": "4cd5b7b4",
   "metadata": {},
   "outputs": [
    {
     "data": {
      "text/html": [
       "<div>\n",
       "<style scoped>\n",
       "    .dataframe tbody tr th:only-of-type {\n",
       "        vertical-align: middle;\n",
       "    }\n",
       "\n",
       "    .dataframe tbody tr th {\n",
       "        vertical-align: top;\n",
       "    }\n",
       "\n",
       "    .dataframe thead th {\n",
       "        text-align: right;\n",
       "    }\n",
       "</style>\n",
       "<table border=\"1\" class=\"dataframe\">\n",
       "  <thead>\n",
       "    <tr style=\"text-align: right;\">\n",
       "      <th></th>\n",
       "      <th>date</th>\n",
       "      <th>endpoint</th>\n",
       "      <th>user_id</th>\n",
       "      <th>cohort_id</th>\n",
       "      <th>name</th>\n",
       "      <th>start_date</th>\n",
       "      <th>end_date</th>\n",
       "      <th>source_ip</th>\n",
       "      <th>program_id</th>\n",
       "      <th>program_length</th>\n",
       "    </tr>\n",
       "  </thead>\n",
       "  <tbody>\n",
       "    <tr>\n",
       "      <th>31627</th>\n",
       "      <td>2018-03-22</td>\n",
       "      <td>/</td>\n",
       "      <td>152</td>\n",
       "      <td>9.0</td>\n",
       "      <td>Apollo</td>\n",
       "      <td>2015-03-30</td>\n",
       "      <td>2015-07-29</td>\n",
       "      <td>207.68.209.17</td>\n",
       "      <td>4.0</td>\n",
       "      <td>121 days</td>\n",
       "    </tr>\n",
       "    <tr>\n",
       "      <th>31628</th>\n",
       "      <td>2018-03-22</td>\n",
       "      <td>content/html-css</td>\n",
       "      <td>152</td>\n",
       "      <td>9.0</td>\n",
       "      <td>Apollo</td>\n",
       "      <td>2015-03-30</td>\n",
       "      <td>2015-07-29</td>\n",
       "      <td>207.68.209.17</td>\n",
       "      <td>4.0</td>\n",
       "      <td>121 days</td>\n",
       "    </tr>\n",
       "    <tr>\n",
       "      <th>31629</th>\n",
       "      <td>2018-03-22</td>\n",
       "      <td>content/html-css/gitbook/images/favicon.ico</td>\n",
       "      <td>152</td>\n",
       "      <td>9.0</td>\n",
       "      <td>Apollo</td>\n",
       "      <td>2015-03-30</td>\n",
       "      <td>2015-07-29</td>\n",
       "      <td>207.68.209.17</td>\n",
       "      <td>4.0</td>\n",
       "      <td>121 days</td>\n",
       "    </tr>\n",
       "    <tr>\n",
       "      <th>31630</th>\n",
       "      <td>2018-03-22</td>\n",
       "      <td>content/html-css</td>\n",
       "      <td>152</td>\n",
       "      <td>9.0</td>\n",
       "      <td>Apollo</td>\n",
       "      <td>2015-03-30</td>\n",
       "      <td>2015-07-29</td>\n",
       "      <td>207.68.209.17</td>\n",
       "      <td>4.0</td>\n",
       "      <td>121 days</td>\n",
       "    </tr>\n",
       "    <tr>\n",
       "      <th>31631</th>\n",
       "      <td>2018-03-22</td>\n",
       "      <td>content/html-css/introduction.html</td>\n",
       "      <td>152</td>\n",
       "      <td>9.0</td>\n",
       "      <td>Apollo</td>\n",
       "      <td>2015-03-30</td>\n",
       "      <td>2015-07-29</td>\n",
       "      <td>207.68.209.17</td>\n",
       "      <td>4.0</td>\n",
       "      <td>121 days</td>\n",
       "    </tr>\n",
       "  </tbody>\n",
       "</table>\n",
       "</div>"
      ],
      "text/plain": [
       "             date                                     endpoint  user_id  \\\n",
       "31627  2018-03-22                                            /      152   \n",
       "31628  2018-03-22                             content/html-css      152   \n",
       "31629  2018-03-22  content/html-css/gitbook/images/favicon.ico      152   \n",
       "31630  2018-03-22                             content/html-css      152   \n",
       "31631  2018-03-22           content/html-css/introduction.html      152   \n",
       "\n",
       "       cohort_id    name start_date   end_date      source_ip  program_id  \\\n",
       "31627        9.0  Apollo 2015-03-30 2015-07-29  207.68.209.17         4.0   \n",
       "31628        9.0  Apollo 2015-03-30 2015-07-29  207.68.209.17         4.0   \n",
       "31629        9.0  Apollo 2015-03-30 2015-07-29  207.68.209.17         4.0   \n",
       "31630        9.0  Apollo 2015-03-30 2015-07-29  207.68.209.17         4.0   \n",
       "31631        9.0  Apollo 2015-03-30 2015-07-29  207.68.209.17         4.0   \n",
       "\n",
       "      program_length  \n",
       "31627       121 days  \n",
       "31628       121 days  \n",
       "31629       121 days  \n",
       "31630       121 days  \n",
       "31631       121 days  "
      ]
     },
     "execution_count": 55,
     "metadata": {},
     "output_type": "execute_result"
    }
   ],
   "source": [
    "df[df.program_id == 4]"
   ]
  },
  {
   "cell_type": "markdown",
   "id": "e5725525",
   "metadata": {},
   "source": [
    "### 3. Identify students who are accessing our curriculum pages beyond the end of their time at Codeup."
   ]
  },
  {
   "cell_type": "code",
   "execution_count": 21,
   "id": "d1890b5f",
   "metadata": {},
   "outputs": [
    {
     "data": {
      "text/plain": [
       "592"
      ]
     },
     "execution_count": 21,
     "metadata": {},
     "output_type": "execute_result"
    }
   ],
   "source": [
    "df[df.date > df.end_date].user_id.nunique()"
   ]
  },
  {
   "cell_type": "code",
   "execution_count": 27,
   "id": "e1988270",
   "metadata": {},
   "outputs": [],
   "source": [
    "after_codeup = df[df.date > df.end_date].groupby(df.user_id)"
   ]
  },
  {
   "cell_type": "code",
   "execution_count": 28,
   "id": "9bd97f98",
   "metadata": {},
   "outputs": [
    {
     "data": {
      "text/plain": [
       "<pandas.core.groupby.generic.DataFrameGroupBy object at 0x1038c4d30>"
      ]
     },
     "execution_count": 28,
     "metadata": {},
     "output_type": "execute_result"
    }
   ],
   "source": [
    "after_codeup"
   ]
  },
  {
   "cell_type": "code",
   "execution_count": null,
   "id": "55b74b13",
   "metadata": {},
   "outputs": [],
   "source": []
  }
 ],
 "metadata": {
  "kernelspec": {
   "display_name": "Python 3 (ipykernel)",
   "language": "python",
   "name": "python3"
  },
  "language_info": {
   "codemirror_mode": {
    "name": "ipython",
    "version": 3
   },
   "file_extension": ".py",
   "mimetype": "text/x-python",
   "name": "python",
   "nbconvert_exporter": "python",
   "pygments_lexer": "ipython3",
   "version": "3.9.12"
  }
 },
 "nbformat": 4,
 "nbformat_minor": 5
}
